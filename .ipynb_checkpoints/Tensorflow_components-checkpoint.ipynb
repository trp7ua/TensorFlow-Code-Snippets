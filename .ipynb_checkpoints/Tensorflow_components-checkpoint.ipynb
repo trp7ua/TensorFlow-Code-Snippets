{
 "cells": [
  {
   "cell_type": "code",
   "execution_count": 1,
   "metadata": {
    "collapsed": false
   },
   "outputs": [
    {
     "name": "stdout",
     "output_type": "stream",
     "text": [
      "25.0\n",
      "25.0\n"
     ]
    }
   ],
   "source": [
    "import tensorflow as tf\n",
    "\n",
    "# Session:\n",
    "a = tf.constant(5.0)\n",
    "b = tf.constant(5.0)\n",
    "\n",
    "c = a*b\n",
    "\n",
    "with tf.Session() as sess:\n",
    "    print (sess.run(c)) # this way \n",
    "    print (c.eval()) # or this way\n",
    "\n",
    "\n"
   ]
  },
  {
   "cell_type": "code",
   "execution_count": 3,
   "metadata": {
    "collapsed": false
   },
   "outputs": [
    {
     "name": "stdout",
     "output_type": "stream",
     "text": [
      "[[ 1.  1.]\n",
      " [ 1.  1.]]\n",
      "[[ 0.  0.]\n",
      " [ 0.  0.]]\n",
      "0\n",
      "1\n",
      "2\n",
      "3\n"
     ]
    }
   ],
   "source": [
    "# Variables:\n",
    "# variables must be initialized before they have values contrast with constant tensors\n",
    "W1 = tf.ones((2,2))\n",
    "W2 = tf.Variable(tf.zeros((2,2)), name = \"weights\")\n",
    "\n",
    "with tf.Session() as sess:\n",
    "    print sess.run(W1)\n",
    "    sess.run(tf.initialize_all_variables())\n",
    "    print sess.run(W2)\n",
    "    \n",
    "    \n",
    "# Updating variable state:\n",
    "state = tf.Variable(0,name= \"counter\")\n",
    "new_value = tf.add(state,tf.constant(1))\n",
    "update = tf.assign(state, new_value)\n",
    "\n",
    "with tf.Session() as sess:\n",
    "    sess.run(tf.initialize_all_variables())\n",
    "    print sess.run(state)\n",
    "    for _ in range(3):\n",
    "        sess.run(update)\n",
    "        print sess.run(state)\n"
   ]
  },
  {
   "cell_type": "code",
   "execution_count": null,
   "metadata": {
    "collapsed": true
   },
   "outputs": [],
   "source": [
    "# Placeholders\n",
    "from tensorflow.examples.tutorials.mnist import input_data\n",
    "\n",
    "# mnist data: 28x28 images: handwritten digits, 10 digits 10 classes, 60K images\n",
    "mnist = input_data.read_data_sets(\"MNIST_data/\", one_hot=True)\n",
    "\n",
    "num_features = 784\n",
    "num_classes = 10\n",
    "\n",
    "# 1 placeholder for sample/data\n",
    "x = tf.placeholder(tf.float32, [None, num_features])\n",
    "y_ = tf.placeholder(tf.float32, [None, num_classes])\n",
    "\n",
    "# Placeholderes are used while training, feeding the input data/samples\n",
    "\n"
   ]
  }
 ],
 "metadata": {
  "kernelspec": {
   "display_name": "Python 2",
   "language": "python",
   "name": "python2"
  },
  "language_info": {
   "codemirror_mode": {
    "name": "ipython",
    "version": 2
   },
   "file_extension": ".py",
   "mimetype": "text/x-python",
   "name": "python",
   "nbconvert_exporter": "python",
   "pygments_lexer": "ipython2",
   "version": "2.7.12"
  }
 },
 "nbformat": 4,
 "nbformat_minor": 0
}

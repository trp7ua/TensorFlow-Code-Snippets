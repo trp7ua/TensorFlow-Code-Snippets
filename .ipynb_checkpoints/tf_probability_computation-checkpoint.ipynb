{
 "cells": [
  {
   "cell_type": "code",
   "execution_count": 1,
   "metadata": {
    "collapsed": false
   },
   "outputs": [
    {
     "data": {
      "text/plain": [
       "'\\nhttp://stackoverflow.com/questions/38892924/tensorflow-how-to-get-raw-probability-values-for-each-class\\n\\nthreshold = tf.constant(0.25, dtype=tf.float32)\\nraw_prob = tf.greater_equal(predictions, threshold)\\n\\nraw_prob will be a tensor of same size as predictions holding True or False. It is also possible to use different thresholds for different classes. Assuming that number of classes is three:\\n\\nthreshold = tf.constant([0.34, 0.25, 0.95], dtype=tf.float32)\\nraw_prob = tf.greater_equal(predictions, threshold)\\n\\n'"
      ]
     },
     "execution_count": 1,
     "metadata": {},
     "output_type": "execute_result"
    }
   ],
   "source": [
    "import tensorflow as tf\n",
    "import numpy as np\n",
    "from sklearn.datasets import make_classification\n",
    "from sklearn.cross_validation import train_test_split\n",
    "from sklearn.metrics import precision_recall_fscore_support\n",
    "from sklearn.metrics import accuracy_score\n",
    "\n",
    "\n",
    "\"\"\"\n",
    "http://stackoverflow.com/questions/38892924/tensorflow-how-to-get-raw-probability-values-for-each-class\n",
    "\n",
    "threshold = tf.constant(0.25, dtype=tf.float32)\n",
    "raw_prob = tf.greater_equal(predictions, threshold)\n",
    "\n",
    "raw_prob will be a tensor of same size as predictions holding True or False. It is also possible to use different thresholds for different classes. Assuming that number of classes is three:\n",
    "\n",
    "threshold = tf.constant([0.34, 0.25, 0.95], dtype=tf.float32)\n",
    "raw_prob = tf.greater_equal(predictions, threshold)\n",
    "\n",
    "\"\"\"\n",
    "\n",
    "\n"
   ]
  },
  {
   "cell_type": "code",
   "execution_count": 2,
   "metadata": {
    "collapsed": true
   },
   "outputs": [],
   "source": [
    "# Generate tain and test data\n",
    "X, Y = make_classification(n_samples=50000, n_features=10, n_informative=8, \n",
    "                    n_redundant=0, n_clusters_per_class=2)\n",
    "Y = np.array([Y, -(Y-1)]).T  # The model currently needs one column for each class\n",
    "X, X_test, Y, Y_test = train_test_split(X, Y)"
   ]
  },
  {
   "cell_type": "code",
   "execution_count": 3,
   "metadata": {
    "collapsed": true
   },
   "outputs": [],
   "source": [
    "\n",
    "# Parameters\n",
    "learning_rate = 0.001\n",
    "training_epochs = 10\n",
    "batch_size = 100\n",
    "display_step = 1\n",
    "\n",
    "# Network Parameters\n",
    "n_hidden_1 = 10 # 1st layer number of features\n",
    "n_hidden_2 = 10 # 2nd layer number of features\n",
    "n_input = 10 # Number of feature\n",
    "n_classes = 2 # Number of classes to predict\n",
    "\n",
    "# tf Graph input\n",
    "x = tf.placeholder(\"float\", [None, n_input])\n",
    "y = tf.placeholder(\"float\", [None, n_classes])\n",
    "\n",
    "# Create model\n",
    "def multilayer_perceptron(x, weights, biases):\n",
    "    # Hidden layer with RELU activation\n",
    "    layer_1 = tf.add(tf.matmul(x, weights['h1']), biases['b1'])\n",
    "    layer_1 = tf.nn.relu(layer_1)\n",
    "    # Hidden layer with RELU activation\n",
    "    layer_2 = tf.add(tf.matmul(layer_1, weights['h2']), biases['b2'])\n",
    "    layer_2 = tf.nn.relu(layer_2)\n",
    "    # Output layer with linear activation\n",
    "    out_layer = tf.matmul(layer_2, weights['out']) + biases['out']\n",
    "    return out_layer"
   ]
  },
  {
   "cell_type": "code",
   "execution_count": 4,
   "metadata": {
    "collapsed": true
   },
   "outputs": [],
   "source": [
    "\n",
    "# Store layers weight & bias\n",
    "weights = {\n",
    "    'h1': tf.Variable(tf.random_normal([n_input, n_hidden_1])),\n",
    "    'h2': tf.Variable(tf.random_normal([n_hidden_1, n_hidden_2])),\n",
    "    'out': tf.Variable(tf.random_normal([n_hidden_2, n_classes]))\n",
    "}\n",
    "biases = {\n",
    "    'b1': tf.Variable(tf.random_normal([n_hidden_1])),\n",
    "    'b2': tf.Variable(tf.random_normal([n_hidden_2])),\n",
    "    'out': tf.Variable(tf.random_normal([n_classes]))\n",
    "}\n",
    "\n",
    "# Construct model\n",
    "pred = multilayer_perceptron(x, weights, biases)\n",
    "\n",
    "# Define loss and optimizer\n",
    "cost = tf.reduce_mean(tf.nn.softmax_cross_entropy_with_logits(pred, y))\n",
    "#cross_entropy = tf.reduce_sum(- y * tf.log(pred) - (1 - y) * tf.log(1 - pred), 1)\n",
    "#cost = tf.reduce_mean(cross_entropy)\n",
    "optimizer = tf.train.AdamOptimizer(learning_rate=learning_rate).minimize(cost)\n",
    "\n",
    "# Initializing the variables\n",
    "init = tf.initialize_all_variables()"
   ]
  },
  {
   "cell_type": "code",
   "execution_count": 5,
   "metadata": {
    "collapsed": false
   },
   "outputs": [
    {
     "name": "stdout",
     "output_type": "stream",
     "text": [
      "Epoch: 0001 cost= 7.483301477\n",
      "Epoch: 0002 cost= 1.304168823\n",
      "Epoch: 0003 cost= 0.650898785\n",
      "Epoch: 0004 cost= 0.472584281\n",
      "Epoch: 0005 cost= 0.384514156\n",
      "Epoch: 0006 cost= 0.331482373\n",
      "Epoch: 0007 cost= 0.296698338\n",
      "Epoch: 0008 cost= 0.271869965\n",
      "Epoch: 0009 cost= 0.252406720\n",
      "Epoch: 0010 cost= 0.237113581\n",
      "Optimization Finished!\n",
      "Accuracy: 0.91048\n",
      "[[-0.3268323838710785, 2.4936680793762207], [18.259723663330078, 24.210494995117188], [13.530616760253906, 9.980802536010742], [-0.23827621340751648, 2.860858917236328], [-4.513082027435303, -4.260250091552734]]\n",
      "[1 1 0 1 1]\n",
      "TEST RESULT:\n",
      "==============\n",
      "\n",
      "\n",
      "PRECISION:\n",
      "[ 0.91951579  0.90183185]\n",
      "\n",
      "\n",
      "RECALL:\n",
      "[ 0.89964789  0.92130518]\n",
      "\n",
      "\n",
      "F1-score:\n",
      "[ 0.90947334  0.91146451]\n",
      "\n",
      "\n",
      "SUPPORT:\n",
      "[6248 6252]\n"
     ]
    }
   ],
   "source": [
    "# Launch the graph\n",
    "with tf.Session() as sess:\n",
    "    sess.run(init)\n",
    "    # Training cycle\n",
    "    for epoch in range(training_epochs):\n",
    "        avg_cost = 0.\n",
    "        total_batch = int(len(X)/batch_size)\n",
    "        X_batches = np.array_split(X, total_batch)\n",
    "        Y_batches = np.array_split(Y, total_batch)\n",
    "        # Loop over all batches\n",
    "        for i in range(total_batch):\n",
    "            batch_x, batch_y = X_batches[i], Y_batches[i]\n",
    "            # batch_y.shape = (batch_y.shape[0], 1)\n",
    "            # Run optimization op (backprop) and cost op (to get loss value)\n",
    "            _, c = sess.run([optimizer, cost], feed_dict={x: batch_x,\n",
    "                                                          y: batch_y})\n",
    "            # Compute average loss\n",
    "            avg_cost += c / total_batch\n",
    "        # Display logs per epoch step\n",
    "        if epoch % display_step == 0:\n",
    "            print \"Epoch:\", '%04d' % (epoch+1), \"cost=\", \\\n",
    "                \"{:.9f}\".format(avg_cost)\n",
    "    print \"Optimization Finished!\"\n",
    "\n",
    "    # Test model\n",
    "    correct_prediction = tf.equal(tf.argmax(pred, 1), tf.argmax(y, 1))\n",
    "    # Calculate accuracy\n",
    "    accuracy = tf.reduce_mean(tf.cast(correct_prediction, \"float\"))\n",
    "    print \"Accuracy:\", accuracy.eval({x: X_test, y: Y_test})\n",
    "    global result \n",
    "    result = tf.argmax(pred, 1).eval({x: X_test, y: Y_test})\n",
    "    \n",
    "    \n",
    "    \n",
    "    probab = pred\n",
    "    \n",
    "    \n",
    "    y_p = tf.argmax(pred, 1)\n",
    "    val_accuracy, y_pred, probab = sess.run([accuracy, y_p, probab], feed_dict={x:X_test, y:Y_test})\n",
    "    \n",
    "    probab_out = probab.tolist()\n",
    "    \n",
    "    print(probab_out[:5])\n",
    "    print (y_pred[:5])\n",
    "    \n",
    "    Y_test = [not i for i in Y_test[:,0]]    \n",
    "    y_pred =  y_pred.tolist()\n",
    "    \n",
    "    \n",
    "    \n",
    "    \n",
    "\n",
    "    \n",
    "    (test_precision,test_recall,test_fscore,test_support)=precision_recall_fscore_support(Y_test, y_pred, beta=1.0, labels=None,\n",
    "\t                            pos_label=1, average=None,\n",
    "\t                            warn_for=('precision', 'recall',\n",
    "\t                                      'f-score'),\n",
    "\t                            sample_weight=None)\n",
    "\n",
    "    Test = (test_precision,test_recall,test_fscore,test_support)\n",
    "    print \"TEST RESULT:\"\n",
    "    print\"==============\"\n",
    "    print \"\\n\"\n",
    "    print \"PRECISION:\"\n",
    "    print(Test[0])\n",
    "    print \"\\n\"\n",
    "    print \"RECALL:\"\n",
    "    print(Test[1])\n",
    "    print \"\\n\"\n",
    "    print \"F1-score:\"\n",
    "    print(Test[2])\n",
    "    print \"\\n\"\t\n",
    "    print \"SUPPORT:\"\n",
    "    print(Test[3])\n",
    "    "
   ]
  },
  {
   "cell_type": "code",
   "execution_count": null,
   "metadata": {
    "collapsed": true
   },
   "outputs": [],
   "source": []
  }
 ],
 "metadata": {
  "kernelspec": {
   "display_name": "Python 2",
   "language": "python",
   "name": "python2"
  },
  "language_info": {
   "codemirror_mode": {
    "name": "ipython",
    "version": 2
   },
   "file_extension": ".py",
   "mimetype": "text/x-python",
   "name": "python",
   "nbconvert_exporter": "python",
   "pygments_lexer": "ipython2",
   "version": "2.7.12"
  }
 },
 "nbformat": 4,
 "nbformat_minor": 0
}

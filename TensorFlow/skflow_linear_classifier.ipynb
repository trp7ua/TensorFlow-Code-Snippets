{
 "cells": [
  {
   "cell_type": "code",
   "execution_count": 14,
   "metadata": {
    "collapsed": false
   },
   "outputs": [],
   "source": [
    "import tensorflow as tf\n",
    "import numpy as np\n",
    "from sklearn.datasets import make_classification\n",
    "from sklearn.cross_validation import train_test_split\n",
    "from tensorflow.contrib.learn import DNNClassifier\n",
    "import tensorflow.contrib.learn as skflow\n",
    "from sklearn.metrics import precision_recall_fscore_support\n",
    "from sklearn.metrics import accuracy_score\n",
    "\n",
    "\n"
   ]
  },
  {
   "cell_type": "code",
   "execution_count": 19,
   "metadata": {
    "collapsed": false
   },
   "outputs": [
    {
     "name": "stderr",
     "output_type": "stream",
     "text": [
      "WARNING:tensorflow:TensorFlowLinearClassifier class is deprecated. Please consider using LinearClassifier as an alternative.\n",
      "WARNING:tensorflow:Change warning: `feature_columns` will be required after 2016-08-01.\n",
      "Instructions for updating:\n",
      "Pass `tf.contrib.learn.infer_real_valued_columns_from_input(x)` or `tf.contrib.learn.infer_real_valued_columns_from_input_fn(input_fn)` as `feature_columns`, where `x` or `input_fn` is your argument to `fit`, `evaluate`, or `predict`.\n",
      "WARNING:tensorflow:Using temporary folder as model directory: /var/folders/f5/602r8r4x03116lnx_1hyywtr392pnz/T/tmptmO3oR\n",
      "WARNING:tensorflow:Setting feature info to TensorSignature(dtype=tf.float32, shape=TensorShape([Dimension(None), Dimension(10)]), is_sparse=False)\n",
      "WARNING:tensorflow:Setting targets info to TensorSignature(dtype=tf.int64, shape=TensorShape([Dimension(None)]), is_sparse=False)\n"
     ]
    }
   ],
   "source": [
    "\n",
    "X, Y = make_classification(n_samples=50000, n_features=10, n_informative=8, \n",
    "                    n_redundant=0, n_clusters_per_class=2)\n",
    "#Y = np.array([Y, -(Y-1)]).T  # The model currently needs one column for each class\n",
    "X_train, X_test, Y_train, Y_test = train_test_split(X, Y)\n",
    "\n",
    "n_classes = 2\n",
    "\n",
    "classifier = skflow.TensorFlowLinearClassifier(n_classes=n_classes)\n",
    "\n",
    "classifier.fit(X_train, Y_train)\n",
    "\n",
    "y_pred = classifier.predict(X_test)\n",
    "\n",
    "\n"
   ]
  },
  {
   "cell_type": "code",
   "execution_count": 16,
   "metadata": {
    "collapsed": false
   },
   "outputs": [
    {
     "name": "stdout",
     "output_type": "stream",
     "text": [
      "TEST RESULT:\n",
      "==============\n",
      "\n",
      "\n",
      "PRECISION:\n",
      "[ 0.83852107  0.78713538]\n",
      "\n",
      "\n",
      "RECALL:\n",
      "[ 0.77409113  0.84857281]\n",
      "\n",
      "\n",
      "F1-score:\n",
      "[ 0.80501899  0.81670029]\n",
      "\n",
      "\n",
      "SUPPORT:\n",
      "[6299 6201]\n"
     ]
    }
   ],
   "source": [
    "(test_precision,test_recall,test_fscore,test_support)=precision_recall_fscore_support(Y_test, y_pred, beta=1.0, labels=None,\n",
    "                            pos_label=1, average=None,\n",
    "                            warn_for=('precision', 'recall',\n",
    "                                      'f-score'),\n",
    "                            sample_weight=None)\n",
    "\n",
    "Test = (test_precision,test_recall,test_fscore,test_support)\n",
    "print \"TEST RESULT:\"\n",
    "print\"==============\"\n",
    "print \"\\n\"\n",
    "print \"PRECISION:\"\n",
    "print(Test[0])\n",
    "print \"\\n\"\n",
    "print \"RECALL:\"\n",
    "print(Test[1])\n",
    "print \"\\n\"\n",
    "print \"F1-score:\"\n",
    "print(Test[2])\n",
    "print \"\\n\"\t\n",
    "print \"SUPPORT:\"\n",
    "print(Test[3])\n"
   ]
  },
  {
   "cell_type": "code",
   "execution_count": null,
   "metadata": {
    "collapsed": true
   },
   "outputs": [],
   "source": []
  }
 ],
 "metadata": {
  "kernelspec": {
   "display_name": "Python 2",
   "language": "python",
   "name": "python2"
  },
  "language_info": {
   "codemirror_mode": {
    "name": "ipython",
    "version": 2
   },
   "file_extension": ".py",
   "mimetype": "text/x-python",
   "name": "python",
   "nbconvert_exporter": "python",
   "pygments_lexer": "ipython2",
   "version": "2.7.12"
  }
 },
 "nbformat": 4,
 "nbformat_minor": 0
}
